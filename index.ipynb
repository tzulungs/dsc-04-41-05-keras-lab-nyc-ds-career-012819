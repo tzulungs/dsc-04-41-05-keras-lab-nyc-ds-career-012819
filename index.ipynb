{
 "cells": [
  {
   "cell_type": "markdown",
   "metadata": {},
   "source": [
    "# Keras - Lab\n",
    "\n",
    "## Introduction\n",
    "\n",
    "In this lab you'll once again build a neural network but this time with much less production time since we will be using Keras to do a lot of the heavy lifting building blocks which we coded from hand previously.  Our use case will be classifying Bank complaints.\n",
    "\n",
    "\n",
    "## Objectives\n",
    "\n",
    "You will be able to:\n",
    "* Build a neural network using Keras"
   ]
  },
  {
   "cell_type": "markdown",
   "metadata": {},
   "source": [
    "## Loading Required Packages\n",
    "\n",
    "Here we'll import all of the various packages that we'll use in this code along. We'll point out where these imports were used as they come up in the lab."
   ]
  },
  {
   "cell_type": "code",
   "execution_count": 19,
   "metadata": {},
   "outputs": [],
   "source": [
    "import matplotlib.pyplot as plt\n",
    "import pandas as pd\n",
    "import numpy as np\n",
    "import random\n",
    "from sklearn.model_selection import train_test_split\n",
    "from keras.utils.np_utils import to_categorical\n",
    "from sklearn import preprocessing\n",
    "from keras.preprocessing.text import Tokenizer\n",
    "from keras import models\n",
    "from keras import layers\n",
    "from keras import optimizers"
   ]
  },
  {
   "cell_type": "markdown",
   "metadata": {},
   "source": [
    "## Loading the data\n",
    "\n",
    "As usual, we will start our data science process by importing the data itself.  \n",
    "Load and preview as a pandas dataframe.   \n",
    "The data is stored in a file **Bank_complaints.csv**."
   ]
  },
  {
   "cell_type": "code",
   "execution_count": 20,
   "metadata": {},
   "outputs": [],
   "source": [
    "data=pd.read_csv('Bank_complaints.csv')\n",
    "#import pandas as pd #As reference; already imported above"
   ]
  },
  {
   "cell_type": "markdown",
   "metadata": {},
   "source": [
    "## Further Preview of the Categories\n",
    "\n",
    "As we said, our task here is to categorize banking complaints into various predefined categories. Preview what these categories are and what percent of the complaints each accounts for."
   ]
  },
  {
   "cell_type": "code",
   "execution_count": 21,
   "metadata": {},
   "outputs": [
    {
     "data": {
      "text/html": [
       "<div>\n",
       "<style scoped>\n",
       "    .dataframe tbody tr th:only-of-type {\n",
       "        vertical-align: middle;\n",
       "    }\n",
       "\n",
       "    .dataframe tbody tr th {\n",
       "        vertical-align: top;\n",
       "    }\n",
       "\n",
       "    .dataframe thead th {\n",
       "        text-align: right;\n",
       "    }\n",
       "</style>\n",
       "<table border=\"1\" class=\"dataframe\">\n",
       "  <thead>\n",
       "    <tr style=\"text-align: right;\">\n",
       "      <th></th>\n",
       "      <th>Product</th>\n",
       "      <th>Consumer complaint narrative</th>\n",
       "    </tr>\n",
       "  </thead>\n",
       "  <tbody>\n",
       "    <tr>\n",
       "      <th>0</th>\n",
       "      <td>Student loan</td>\n",
       "      <td>In XX/XX/XXXX I filled out the Fedlaon applica...</td>\n",
       "    </tr>\n",
       "    <tr>\n",
       "      <th>1</th>\n",
       "      <td>Student loan</td>\n",
       "      <td>I am being contacted by a debt collector for p...</td>\n",
       "    </tr>\n",
       "    <tr>\n",
       "      <th>2</th>\n",
       "      <td>Student loan</td>\n",
       "      <td>I cosigned XXXX student loans at SallieMae for...</td>\n",
       "    </tr>\n",
       "    <tr>\n",
       "      <th>3</th>\n",
       "      <td>Student loan</td>\n",
       "      <td>Navient has sytematically and illegally failed...</td>\n",
       "    </tr>\n",
       "    <tr>\n",
       "      <th>4</th>\n",
       "      <td>Student loan</td>\n",
       "      <td>My wife became eligible for XXXX Loan Forgiven...</td>\n",
       "    </tr>\n",
       "  </tbody>\n",
       "</table>\n",
       "</div>"
      ],
      "text/plain": [
       "        Product                       Consumer complaint narrative\n",
       "0  Student loan  In XX/XX/XXXX I filled out the Fedlaon applica...\n",
       "1  Student loan  I am being contacted by a debt collector for p...\n",
       "2  Student loan  I cosigned XXXX student loans at SallieMae for...\n",
       "3  Student loan  Navient has sytematically and illegally failed...\n",
       "4  Student loan  My wife became eligible for XXXX Loan Forgiven..."
      ]
     },
     "execution_count": 21,
     "metadata": {},
     "output_type": "execute_result"
    }
   ],
   "source": [
    "data.head()"
   ]
  },
  {
   "cell_type": "code",
   "execution_count": 22,
   "metadata": {},
   "outputs": [
    {
     "data": {
      "text/plain": [
       "Student loan                   19.006667\n",
       "Credit card                    15.900000\n",
       "Consumer Loan                  15.790000\n",
       "Mortgage                       13.886667\n",
       "Bank account or service        13.848333\n",
       "Credit reporting               11.440000\n",
       "Checking or savings account    10.128333\n",
       "Name: Product, dtype: float64"
      ]
     },
     "execution_count": 22,
     "metadata": {},
     "output_type": "execute_result"
    }
   ],
   "source": [
    "data.Product.value_counts()/data.Product.count() * 100"
   ]
  },
  {
   "cell_type": "markdown",
   "metadata": {},
   "source": [
    "## Preprocessing\n",
    "\n",
    "Before we build our neural network, we need to do several preprocessing steps. First, we will create word vector counts (a bag of words type representation) of our complaints text. Next, we will change the category labels to integers. Finally, we will perform our usual train-test split before building and training our neural network using Keras. With that, let's start munging our data!"
   ]
  },
  {
   "cell_type": "markdown",
   "metadata": {},
   "source": [
    "## One-hot encoding of the complaints\n",
    "\n",
    "Our first step again is to transform our textual data into a numerical representation. As we've started to see in some of our previous lessons on NLP, there are many ways to do this. Here, we'll use the `Tokenizer` method from the `preprocessing` module of the Keras package.   \n",
    "\n",
    "As with our previous work using NLTK, this will transform our text complaints into word vectors. (Note that the method of creating a vector is different from our previous work with NLTK; as you'll see, word order will be preserved as oppossed to a bag of words representation. In the below code, we'll only keep the 2,000 most common words and use one-hot encoding.\n",
    "\n",
    "Note that the code block below takes advantage of the following package import from our first code cell above.  \n",
    "`from keras.preprocessing.text import Tokenizer`"
   ]
  },
  {
   "cell_type": "code",
   "execution_count": 23,
   "metadata": {},
   "outputs": [],
   "source": [
    "#As a quick preliminary, briefly review the docstring for the Keras.preprocessing.text.Tokenizer method:\n",
    "Tokenizer?"
   ]
  },
  {
   "cell_type": "code",
   "execution_count": 24,
   "metadata": {},
   "outputs": [
    {
     "name": "stdout",
     "output_type": "stream",
     "text": [
      "sequences type: <class 'list'>\n",
      "one_hot_results type: <class 'numpy.ndarray'>\n",
      "Found 50110 unique tokens.\n",
      "Dimensions of our coded results: (60000, 2000)\n"
     ]
    }
   ],
   "source": [
    "#Now onto the actual code recipe...\n",
    "complaints = data[\"Consumer complaint narrative\"] #Our raw text complaints\n",
    "\n",
    "tokenizer = Tokenizer(num_words=2000) #Initialize a tokenizer.\n",
    "\n",
    "tokenizer.fit_on_texts(complaints) #Fit it to the complaints\n",
    "\n",
    "sequences = tokenizer.texts_to_sequences(complaints) #Generate sequences\n",
    "print('sequences type:', type(sequences))\n",
    "\n",
    "one_hot_results= tokenizer.texts_to_matrix(complaints, mode='binary') #Similar to sequences, but returns a numpy array\n",
    "print('one_hot_results type:', type(one_hot_results))\n",
    "\n",
    "word_index = tokenizer.word_index #Useful if we wish to decode (more explanation below)\n",
    "\n",
    "print('Found %s unique tokens.' % len(word_index)) #Tokens are the number of unique words across the corpus\n",
    "\n",
    "\n",
    "print('Dimensions of our coded results:', np.shape(one_hot_results)) #Our coded data"
   ]
  },
  {
   "cell_type": "markdown",
   "metadata": {},
   "source": [
    "## Decoding our Word Vectors\n",
    "As a note, you can also decode these vectorized representations of the reviews. The `word_index` variable, defined above, stores the mapping from the label number to the actual word. Somewhat tediously, we can turn this dictionary inside out and map it back to our word vectors, giving us roughly the original complaint back. (As you'll see, the text won't be identical as we limited ourselves to 200 words.)"
   ]
  },
  {
   "cell_type": "markdown",
   "metadata": {},
   "source": [
    "## Python Review / Mini Challenge\n",
    "\n",
    "While a bit tangential to our main topic of interest, we need to reverse our current dictionary `word_index` which maps words from our corpus to integers. In decoding our one_hot_results, we will need to create a dictionary of these integers to the original words. Below, take the `word_index` dictionary object and change the orientation so that the values are keys and the keys values. In other words, you are transforming something of the form {A:1, B:2, C:3} to {1:A, 2:B, 3:C}"
   ]
  },
  {
   "cell_type": "code",
   "execution_count": 25,
   "metadata": {},
   "outputs": [],
   "source": [
    "#Your code here\n",
    "reverse_index = {value:key for key, value in word_index.items()}"
   ]
  },
  {
   "cell_type": "markdown",
   "metadata": {},
   "source": [
    "## Back to Decoding Our Word Vectors..."
   ]
  },
  {
   "cell_type": "code",
   "execution_count": 26,
   "metadata": {},
   "outputs": [
    {
     "name": "stdout",
     "output_type": "stream",
     "text": [
      "Original complaint text:\n",
      "I have already filed several complaints about AES/PHEAA. I was notified by a XXXX XXXX let @ XXXX, who pretended to be from your office, he said he was from CFPB. I found out this morning he is n't from your office, but is actually works at XXXX. \n",
      "\n",
      "This has wasted weeks of my time. They AES/PHEAA confirmed and admitted ( see attached transcript of XXXX, conversation at XXXX ( XXXX ) with XXXX that proves they verified the loans are not mine ) the student loans they had XXXX, and collected on, and reported negate credit reporting in my name are in fact, not mine. \n",
      "They conclued their investigation on XXXX admitting they made a mistake and have my name on soneone elses loans. I these XXXX loans total {$10000.00}, original amount. My XXXX loans I got was total {$3500.00}. We proved by providing AES/PHEAA, this with my original promissary notes I located recently, the XXXX of my college provided AES/PHEAA with their original shoeinf amounts of my XXXX loans which show different dates and amounts, the dates and amounts are not even close to matching these loans they have in my name, The original lender, XXXX XXXX Bank notifying AES/PHEAA, they never issued me a student loan, and original Loan Guarantor, XXXX, notifying AES/PHEAA, they never were guarantor of my loans. \n",
      "\n",
      "XXXX straight forward. But today, this person, XXXX XXXX, told me they know these loans are not mine, and they refuse to remove my name off these XXXX loan 's and correct their mistake, essentially forcing me to pay these loans off, bucause in XXXX they sold the loans to XXXX loans. \n",
      "\n",
      "This is absurd, first protruding to be this office, and then refusing to correct their mistake. \n",
      "\n",
      "Please for the love of XXXX will soneone from your office call me at XXXX, today. I am a XXXX vet and they are knowingly discriminating against me. \n",
      "Pretending to be you.\n",
      "\n",
      "\n",
      "\n",
      "Decoded review from Tokenizer:\n",
      "i have already filed several complaints about aes i was notified by a xxxx xxxx let xxxx who to be from your office he said he was from cfpb i found out this morning he is n't from your office but is actually works at xxxx this has weeks of my time they aes confirmed and admitted see attached of xxxx conversation at xxxx xxxx with xxxx that they verified the loans are not mine the student loans they had xxxx and on and reported credit reporting in my name are in fact not mine they their investigation on xxxx they made a mistake and have my name on loans i these xxxx loans total 10000 00 original amount my xxxx loans i got was total 00 we by providing aes this with my original notes i located recently the xxxx of my college provided aes with their original amounts of my xxxx loans which show different dates and amounts the dates and amounts are not even close to these loans they have in my name the original lender xxxx xxxx bank notifying aes they never issued me a student loan and original loan xxxx notifying aes they never were of my loans xxxx forward but today this person xxxx xxxx told me they know these loans are not mine and they refuse to remove my name off these xxxx loan 's and correct their mistake essentially me to pay these loans off in xxxx they sold the loans to xxxx loans this is first to be this office and then refusing to correct their mistake please for the of xxxx will from your office call me at xxxx today i am a xxxx and they are against me to be you\n"
     ]
    }
   ],
   "source": [
    "comment_idx_to_preview = 19\n",
    "print('Original complaint text:')\n",
    "print(complaints[comment_idx_to_preview])\n",
    "print('\\n\\n')\n",
    "\n",
    "#The reverse_index cell block above must be complete in order for this cell block to successively execute.\n",
    "decoded_review = ' '.join([reverse_index.get(i) for i in sequences[comment_idx_to_preview]])\n",
    "print('Decoded review from Tokenizer:')\n",
    "print(decoded_review)"
   ]
  },
  {
   "cell_type": "markdown",
   "metadata": {},
   "source": [
    "## Convert the Products to Numerical Categories\n",
    "\n",
    "On to step two of our preprocessing: converting our descriptive categories into integers."
   ]
  },
  {
   "cell_type": "code",
   "execution_count": 27,
   "metadata": {},
   "outputs": [
    {
     "name": "stdout",
     "output_type": "stream",
     "text": [
      "Original class labels:\n",
      "['Bank account or service', 'Checking or savings account', 'Consumer Loan', 'Credit card', 'Credit reporting', 'Mortgage', 'Student loan']\n",
      "\n",
      "\n",
      "New product labels:\n",
      "[6 6 6 ... 4 4 4]\n",
      "\n",
      "\n",
      "One hot labels; 7 binary columns, one for each of the categories.\n",
      "[[0. 0. 0. ... 0. 0. 1.]\n",
      " [0. 0. 0. ... 0. 0. 1.]\n",
      " [0. 0. 0. ... 0. 0. 1.]\n",
      " ...\n",
      " [0. 0. 0. ... 1. 0. 0.]\n",
      " [0. 0. 0. ... 1. 0. 0.]\n",
      " [0. 0. 0. ... 1. 0. 0.]]\n",
      "\n",
      "\n",
      "One hot labels shape:\n",
      "(60000, 7)\n"
     ]
    }
   ],
   "source": [
    "product = data[\"Product\"]\n",
    "\n",
    "le = preprocessing.LabelEncoder() #Initialize. le used as abbreviation fo label encoder\n",
    "le.fit(product)\n",
    "print(\"Original class labels:\")\n",
    "print(list(le.classes_))\n",
    "print('\\n')\n",
    "product_cat = le.transform(product)  \n",
    "#list(le.inverse_transform([0, 1, 3, 3, 0, 6, 4])) #If you wish to retrieve the original descriptive labels post production\n",
    "\n",
    "print('New product labels:')\n",
    "print(product_cat)\n",
    "print('\\n')\n",
    "\n",
    "\n",
    "print('One hot labels; 7 binary columns, one for each of the categories.') #Each row will be all zeros except for the category for that observation.\n",
    "product_onehot = to_categorical(product_cat)\n",
    "print(product_onehot)\n",
    "print('\\n')\n",
    "\n",
    "print('One hot labels shape:')\n",
    "print(np.shape(product_onehot))"
   ]
  },
  {
   "cell_type": "markdown",
   "metadata": {},
   "source": [
    "## Train - test split\n",
    "\n",
    "Now for our final preprocessing step: the usual train-test split."
   ]
  },
  {
   "cell_type": "code",
   "execution_count": 28,
   "metadata": {},
   "outputs": [
    {
     "name": "stdout",
     "output_type": "stream",
     "text": [
      "Test label shape: (1500, 7)\n",
      "Train label shape: (58500, 7)\n",
      "Test shape: (1500, 2000)\n",
      "Train shape: (58500, 2000)\n"
     ]
    }
   ],
   "source": [
    "import random\n",
    "random.seed(123)\n",
    "test_index = random.sample(range(1,10000), 1500)\n",
    "\n",
    "test = one_hot_results[test_index]\n",
    "train = np.delete(one_hot_results, test_index, 0)\n",
    "\n",
    "\n",
    "label_test = product_onehot[test_index]\n",
    "label_train = np.delete(product_onehot, test_index, 0)\n",
    "\n",
    "print(\"Test label shape:\", np.shape(label_test))\n",
    "print(\"Train label shape:\", np.shape(label_train))\n",
    "print(\"Test shape:\", np.shape(test))\n",
    "print(\"Train shape:\", np.shape(train))"
   ]
  },
  {
   "cell_type": "markdown",
   "metadata": {},
   "source": [
    "## Building the network"
   ]
  },
  {
   "cell_type": "markdown",
   "metadata": {},
   "source": [
    "Let's build a fully connected (Dense) layer network with relu activations in Keras. You can do this using: `Dense(16, activation='relu')`."
   ]
  },
  {
   "cell_type": "markdown",
   "metadata": {},
   "source": [
    "In this examples, use 2 hidden with 50 units in the first layer and 25 in the second, both with a `relu` activation function. Because we are dealing with a multiclass problem (classifying the complaints into 7 ), we use a use a softmax classifyer in order to output 7 class probabilities per case.  \n",
    "\n",
    "The previous imports that you'll use here are:  \n",
    "\n",
    "```from keras import models\n",
    "from keras import layers```"
   ]
  },
  {
   "cell_type": "code",
   "execution_count": 29,
   "metadata": {},
   "outputs": [],
   "source": [
    "model = models.Sequential() #Your code here; initialize a sequential model with 3 layers; \n",
    "model.add(layers.Dense(50, activation='relu', input_shape=(2000, )))\n",
    "model.add(layers.Dense(25, activation='relu'))\n",
    "model.add(layers.Dense(7, activation='softmax'))\n",
    "#two hidden relu and the final classification output using softmax"
   ]
  },
  {
   "cell_type": "markdown",
   "metadata": {},
   "source": [
    "## Compiling the model and look at the results\n",
    "\n",
    "Now, compile the model! This time, use `'categorical_crossentropy'` as the loss function and stochastic gradient descent, `'SGD'` as the optimizer. As in the previous lesson, include the accuracy as a metric."
   ]
  },
  {
   "cell_type": "code",
   "execution_count": 30,
   "metadata": {},
   "outputs": [],
   "source": [
    "model.compile(optimizer='SGD',\n",
    "              loss='categorical_crossentropy',\n",
    "              metrics=['accuracy'])"
   ]
  },
  {
   "cell_type": "markdown",
   "metadata": {},
   "source": [
    "## Training the model\n",
    "\n",
    "In the compiler, you'll be passing the optimizer (SGD = stochastic gradient descent), loss function, and metrics. Train the model for 120 epochs in mini-batches of 256 samples."
   ]
  },
  {
   "cell_type": "code",
   "execution_count": 31,
   "metadata": {},
   "outputs": [
    {
     "name": "stdout",
     "output_type": "stream",
     "text": [
      "Train on 58500 samples, validate on 1500 samples\n",
      "Epoch 1/120\n",
      "58500/58500 [==============================] - 3s 49us/step - loss: 1.8533 - acc: 0.2620 - val_loss: 1.4871 - val_acc: 0.7700\n",
      "Epoch 2/120\n",
      "58500/58500 [==============================] - 2s 34us/step - loss: 1.5210 - acc: 0.5289 - val_loss: 0.9741 - val_acc: 0.8320\n",
      "Epoch 3/120\n",
      "58500/58500 [==============================] - 2s 33us/step - loss: 1.1453 - acc: 0.6491 - val_loss: 0.6658 - val_acc: 0.8480\n",
      "Epoch 4/120\n",
      "58500/58500 [==============================] - 2s 33us/step - loss: 0.9179 - acc: 0.6960 - val_loss: 0.5086 - val_acc: 0.8693\n",
      "Epoch 5/120\n",
      "58500/58500 [==============================] - 2s 33us/step - loss: 0.7989 - acc: 0.7209 - val_loss: 0.4500 - val_acc: 0.8733\n",
      "Epoch 6/120\n",
      "58500/58500 [==============================] - 2s 32us/step - loss: 0.7305 - acc: 0.7375 - val_loss: 0.3759 - val_acc: 0.8887\n",
      "Epoch 7/120\n",
      "58500/58500 [==============================] - 2s 32us/step - loss: 0.6866 - acc: 0.7494 - val_loss: 0.3584 - val_acc: 0.8927\n",
      "Epoch 8/120\n",
      "58500/58500 [==============================] - 2s 31us/step - loss: 0.6553 - acc: 0.7584 - val_loss: 0.3496 - val_acc: 0.8900\n",
      "Epoch 9/120\n",
      "58500/58500 [==============================] - 2s 29us/step - loss: 0.6315 - acc: 0.7677 - val_loss: 0.3513 - val_acc: 0.8873\n",
      "Epoch 10/120\n",
      "58500/58500 [==============================] - 2s 32us/step - loss: 0.6124 - acc: 0.7752 - val_loss: 0.2843 - val_acc: 0.9187\n",
      "Epoch 11/120\n",
      "58500/58500 [==============================] - 2s 33us/step - loss: 0.5965 - acc: 0.7801 - val_loss: 0.2843 - val_acc: 0.9167\n",
      "Epoch 12/120\n",
      "58500/58500 [==============================] - 2s 33us/step - loss: 0.5828 - acc: 0.7856 - val_loss: 0.2944 - val_acc: 0.9133\n",
      "Epoch 13/120\n",
      "58500/58500 [==============================] - 2s 29us/step - loss: 0.5713 - acc: 0.7899 - val_loss: 0.2901 - val_acc: 0.9147\n",
      "Epoch 14/120\n",
      "58500/58500 [==============================] - 2s 29us/step - loss: 0.5604 - acc: 0.7937 - val_loss: 0.3273 - val_acc: 0.8940\n",
      "Epoch 15/120\n",
      "58500/58500 [==============================] - 2s 29us/step - loss: 0.5510 - acc: 0.7973 - val_loss: 0.2539 - val_acc: 0.9293\n",
      "Epoch 16/120\n",
      "58500/58500 [==============================] - 2s 30us/step - loss: 0.5421 - acc: 0.8011 - val_loss: 0.2726 - val_acc: 0.9187\n",
      "Epoch 17/120\n",
      "58500/58500 [==============================] - 2s 28us/step - loss: 0.5343 - acc: 0.8039 - val_loss: 0.2443 - val_acc: 0.9293\n",
      "Epoch 18/120\n",
      "58500/58500 [==============================] - 2s 29us/step - loss: 0.5268 - acc: 0.8076 - val_loss: 0.2608 - val_acc: 0.9207\n",
      "Epoch 19/120\n",
      "58500/58500 [==============================] - 2s 28us/step - loss: 0.5201 - acc: 0.8105 - val_loss: 0.2768 - val_acc: 0.9187\n",
      "Epoch 20/120\n",
      "58500/58500 [==============================] - 2s 29us/step - loss: 0.5137 - acc: 0.8135 - val_loss: 0.2333 - val_acc: 0.9307\n",
      "Epoch 21/120\n",
      "58500/58500 [==============================] - 2s 32us/step - loss: 0.5078 - acc: 0.8154 - val_loss: 0.2514 - val_acc: 0.9233\n",
      "Epoch 22/120\n",
      "58500/58500 [==============================] - 2s 29us/step - loss: 0.5022 - acc: 0.8169 - val_loss: 0.2586 - val_acc: 0.9193\n",
      "Epoch 23/120\n",
      "58500/58500 [==============================] - 2s 36us/step - loss: 0.4970 - acc: 0.8195 - val_loss: 0.2349 - val_acc: 0.9280\n",
      "Epoch 24/120\n",
      "58500/58500 [==============================] - 2s 29us/step - loss: 0.4919 - acc: 0.8214 - val_loss: 0.2470 - val_acc: 0.9227\n",
      "Epoch 25/120\n",
      "58500/58500 [==============================] - 2s 29us/step - loss: 0.4876 - acc: 0.8223 - val_loss: 0.2764 - val_acc: 0.9113\n",
      "Epoch 26/120\n",
      "58500/58500 [==============================] - 2s 30us/step - loss: 0.4830 - acc: 0.8241 - val_loss: 0.2582 - val_acc: 0.9207\n",
      "Epoch 27/120\n",
      "58500/58500 [==============================] - 2s 30us/step - loss: 0.4788 - acc: 0.8263 - val_loss: 0.2652 - val_acc: 0.9173\n",
      "Epoch 28/120\n",
      "58500/58500 [==============================] - 2s 30us/step - loss: 0.4746 - acc: 0.8274 - val_loss: 0.2381 - val_acc: 0.9253\n",
      "Epoch 29/120\n",
      "58500/58500 [==============================] - 2s 30us/step - loss: 0.4709 - acc: 0.8289 - val_loss: 0.2329 - val_acc: 0.9300\n",
      "Epoch 30/120\n",
      "58500/58500 [==============================] - 2s 29us/step - loss: 0.4673 - acc: 0.8313 - val_loss: 0.2073 - val_acc: 0.9387\n",
      "Epoch 31/120\n",
      "58500/58500 [==============================] - 2s 29us/step - loss: 0.4638 - acc: 0.8326 - val_loss: 0.2275 - val_acc: 0.9313\n",
      "Epoch 32/120\n",
      "58500/58500 [==============================] - 2s 29us/step - loss: 0.4602 - acc: 0.8338 - val_loss: 0.2338 - val_acc: 0.9287\n",
      "Epoch 33/120\n",
      "58500/58500 [==============================] - 2s 31us/step - loss: 0.4569 - acc: 0.8345 - val_loss: 0.2289 - val_acc: 0.9307\n",
      "Epoch 34/120\n",
      "58500/58500 [==============================] - 2s 35us/step - loss: 0.4539 - acc: 0.8370 - val_loss: 0.2083 - val_acc: 0.9360\n",
      "Epoch 35/120\n",
      "58500/58500 [==============================] - 2s 32us/step - loss: 0.4507 - acc: 0.8373 - val_loss: 0.2221 - val_acc: 0.9327\n",
      "Epoch 36/120\n",
      "58500/58500 [==============================] - 2s 29us/step - loss: 0.4480 - acc: 0.8391 - val_loss: 0.2276 - val_acc: 0.9300\n",
      "Epoch 37/120\n",
      "58500/58500 [==============================] - 2s 31us/step - loss: 0.4451 - acc: 0.8403 - val_loss: 0.2409 - val_acc: 0.9260\n",
      "Epoch 38/120\n",
      "58500/58500 [==============================] - 2s 31us/step - loss: 0.4426 - acc: 0.8419 - val_loss: 0.2389 - val_acc: 0.9220\n",
      "Epoch 39/120\n",
      "58500/58500 [==============================] - 2s 31us/step - loss: 0.4397 - acc: 0.8424 - val_loss: 0.2429 - val_acc: 0.9187\n",
      "Epoch 40/120\n",
      "58500/58500 [==============================] - 2s 29us/step - loss: 0.4374 - acc: 0.8433 - val_loss: 0.2181 - val_acc: 0.9313\n",
      "Epoch 41/120\n",
      "58500/58500 [==============================] - 2s 29us/step - loss: 0.4348 - acc: 0.8448 - val_loss: 0.2400 - val_acc: 0.9240\n",
      "Epoch 42/120\n",
      "58500/58500 [==============================] - 2s 29us/step - loss: 0.4326 - acc: 0.8452 - val_loss: 0.2107 - val_acc: 0.9340\n",
      "Epoch 43/120\n",
      "58500/58500 [==============================] - 2s 29us/step - loss: 0.4303 - acc: 0.8466 - val_loss: 0.2273 - val_acc: 0.9287\n",
      "Epoch 44/120\n",
      "58500/58500 [==============================] - 2s 30us/step - loss: 0.4280 - acc: 0.8476 - val_loss: 0.2068 - val_acc: 0.9353\n",
      "Epoch 45/120\n",
      "58500/58500 [==============================] - 2s 31us/step - loss: 0.4256 - acc: 0.8482 - val_loss: 0.2269 - val_acc: 0.9280\n",
      "Epoch 46/120\n",
      "58500/58500 [==============================] - 2s 31us/step - loss: 0.4235 - acc: 0.8494 - val_loss: 0.2125 - val_acc: 0.9340\n",
      "Epoch 47/120\n",
      "58500/58500 [==============================] - 2s 34us/step - loss: 0.4218 - acc: 0.8496 - val_loss: 0.2153 - val_acc: 0.9353\n",
      "Epoch 48/120\n",
      "58500/58500 [==============================] - 2s 29us/step - loss: 0.4196 - acc: 0.8505 - val_loss: 0.2301 - val_acc: 0.9287\n",
      "Epoch 49/120\n",
      "58500/58500 [==============================] - 2s 29us/step - loss: 0.4177 - acc: 0.8522 - val_loss: 0.2139 - val_acc: 0.9347\n",
      "Epoch 50/120\n",
      "58500/58500 [==============================] - 2s 29us/step - loss: 0.4153 - acc: 0.8522 - val_loss: 0.2114 - val_acc: 0.9347\n",
      "Epoch 51/120\n",
      "58500/58500 [==============================] - 2s 29us/step - loss: 0.4136 - acc: 0.8538 - val_loss: 0.2364 - val_acc: 0.9253\n",
      "Epoch 52/120\n",
      "58500/58500 [==============================] - 2s 29us/step - loss: 0.4121 - acc: 0.8537 - val_loss: 0.2266 - val_acc: 0.9320\n",
      "Epoch 53/120\n",
      "58500/58500 [==============================] - 2s 29us/step - loss: 0.4103 - acc: 0.8548 - val_loss: 0.2451 - val_acc: 0.9240\n",
      "Epoch 54/120\n",
      "58500/58500 [==============================] - 2s 29us/step - loss: 0.4085 - acc: 0.8550 - val_loss: 0.2024 - val_acc: 0.9347\n",
      "Epoch 55/120\n",
      "58500/58500 [==============================] - 2s 32us/step - loss: 0.4066 - acc: 0.8559 - val_loss: 0.2257 - val_acc: 0.9293\n",
      "Epoch 56/120\n",
      "58500/58500 [==============================] - 2s 30us/step - loss: 0.4050 - acc: 0.8561 - val_loss: 0.2498 - val_acc: 0.9247\n",
      "Epoch 57/120\n",
      "58500/58500 [==============================] - 2s 36us/step - loss: 0.4034 - acc: 0.8564 - val_loss: 0.2062 - val_acc: 0.9360\n",
      "Epoch 58/120\n",
      "58500/58500 [==============================] - 2s 29us/step - loss: 0.4018 - acc: 0.8577 - val_loss: 0.2266 - val_acc: 0.9287\n",
      "Epoch 59/120\n"
     ]
    },
    {
     "name": "stdout",
     "output_type": "stream",
     "text": [
      "58500/58500 [==============================] - 2s 30us/step - loss: 0.4004 - acc: 0.8573 - val_loss: 0.2113 - val_acc: 0.9347\n",
      "Epoch 60/120\n",
      "58500/58500 [==============================] - 2s 30us/step - loss: 0.3986 - acc: 0.8585 - val_loss: 0.2177 - val_acc: 0.9313\n",
      "Epoch 61/120\n",
      "58500/58500 [==============================] - 2s 29us/step - loss: 0.3972 - acc: 0.8592 - val_loss: 0.2409 - val_acc: 0.9253\n",
      "Epoch 62/120\n",
      "58500/58500 [==============================] - 2s 29us/step - loss: 0.3955 - acc: 0.8598 - val_loss: 0.2150 - val_acc: 0.9313\n",
      "Epoch 63/120\n",
      "58500/58500 [==============================] - 2s 29us/step - loss: 0.3939 - acc: 0.8603 - val_loss: 0.2022 - val_acc: 0.9360\n",
      "Epoch 64/120\n",
      "58500/58500 [==============================] - 2s 29us/step - loss: 0.3929 - acc: 0.8601 - val_loss: 0.2349 - val_acc: 0.9267\n",
      "Epoch 65/120\n",
      "58500/58500 [==============================] - 2s 29us/step - loss: 0.3913 - acc: 0.8601 - val_loss: 0.2075 - val_acc: 0.9353\n",
      "Epoch 66/120\n",
      "58500/58500 [==============================] - 2s 31us/step - loss: 0.3901 - acc: 0.8614 - val_loss: 0.2154 - val_acc: 0.9313\n",
      "Epoch 67/120\n",
      "58500/58500 [==============================] - 2s 30us/step - loss: 0.3885 - acc: 0.8613 - val_loss: 0.2362 - val_acc: 0.9267\n",
      "Epoch 68/120\n",
      "58500/58500 [==============================] - 2s 34us/step - loss: 0.3872 - acc: 0.8624 - val_loss: 0.2230 - val_acc: 0.9293\n",
      "Epoch 69/120\n",
      "58500/58500 [==============================] - 2s 31us/step - loss: 0.3862 - acc: 0.8623 - val_loss: 0.2279 - val_acc: 0.9280\n",
      "Epoch 70/120\n",
      "58500/58500 [==============================] - 2s 29us/step - loss: 0.3844 - acc: 0.8630 - val_loss: 0.2099 - val_acc: 0.9333\n",
      "Epoch 71/120\n",
      "58500/58500 [==============================] - 2s 29us/step - loss: 0.3834 - acc: 0.8635 - val_loss: 0.2283 - val_acc: 0.9273\n",
      "Epoch 72/120\n",
      "58500/58500 [==============================] - 2s 29us/step - loss: 0.3818 - acc: 0.8645 - val_loss: 0.2449 - val_acc: 0.9253\n",
      "Epoch 73/120\n",
      "58500/58500 [==============================] - 2s 29us/step - loss: 0.3807 - acc: 0.8643 - val_loss: 0.2104 - val_acc: 0.9327\n",
      "Epoch 74/120\n",
      "58500/58500 [==============================] - 2s 29us/step - loss: 0.3795 - acc: 0.8645 - val_loss: 0.2177 - val_acc: 0.9320\n",
      "Epoch 75/120\n",
      "58500/58500 [==============================] - 2s 29us/step - loss: 0.3786 - acc: 0.8646 - val_loss: 0.2138 - val_acc: 0.9327\n",
      "Epoch 76/120\n",
      "58500/58500 [==============================] - 2s 29us/step - loss: 0.3772 - acc: 0.8655 - val_loss: 0.2136 - val_acc: 0.9320\n",
      "Epoch 77/120\n",
      "58500/58500 [==============================] - 2s 29us/step - loss: 0.3760 - acc: 0.8659 - val_loss: 0.2103 - val_acc: 0.9327\n",
      "Epoch 78/120\n",
      "58500/58500 [==============================] - 2s 32us/step - loss: 0.3747 - acc: 0.8659 - val_loss: 0.2136 - val_acc: 0.9340\n",
      "Epoch 79/120\n",
      "58500/58500 [==============================] - 2s 32us/step - loss: 0.3738 - acc: 0.8672 - val_loss: 0.2218 - val_acc: 0.9313\n",
      "Epoch 80/120\n",
      "58500/58500 [==============================] - 2s 35us/step - loss: 0.3726 - acc: 0.8673 - val_loss: 0.2159 - val_acc: 0.9327\n",
      "Epoch 81/120\n",
      "58500/58500 [==============================] - 2s 30us/step - loss: 0.3711 - acc: 0.8676 - val_loss: 0.2090 - val_acc: 0.9333\n",
      "Epoch 82/120\n",
      "58500/58500 [==============================] - 2s 29us/step - loss: 0.3701 - acc: 0.8681 - val_loss: 0.2221 - val_acc: 0.9307\n",
      "Epoch 83/120\n",
      "58500/58500 [==============================] - 2s 29us/step - loss: 0.3692 - acc: 0.8690 - val_loss: 0.2142 - val_acc: 0.9340\n",
      "Epoch 84/120\n",
      "58500/58500 [==============================] - 2s 29us/step - loss: 0.3683 - acc: 0.8692 - val_loss: 0.2212 - val_acc: 0.9340\n",
      "Epoch 85/120\n",
      "58500/58500 [==============================] - 2s 29us/step - loss: 0.3671 - acc: 0.8691 - val_loss: 0.2071 - val_acc: 0.9360\n",
      "Epoch 86/120\n",
      "58500/58500 [==============================] - 2s 30us/step - loss: 0.3659 - acc: 0.8698 - val_loss: 0.1933 - val_acc: 0.9380\n",
      "Epoch 87/120\n",
      "58500/58500 [==============================] - 2s 28us/step - loss: 0.3649 - acc: 0.8697 - val_loss: 0.2134 - val_acc: 0.9340\n",
      "Epoch 88/120\n",
      "58500/58500 [==============================] - 2s 29us/step - loss: 0.3638 - acc: 0.8705 - val_loss: 0.2046 - val_acc: 0.9373\n",
      "Epoch 89/120\n",
      "58500/58500 [==============================] - 2s 32us/step - loss: 0.3631 - acc: 0.8709 - val_loss: 0.2333 - val_acc: 0.9280\n",
      "Epoch 90/120\n",
      "58500/58500 [==============================] - 2s 29us/step - loss: 0.3620 - acc: 0.8708 - val_loss: 0.2163 - val_acc: 0.9340\n",
      "Epoch 91/120\n",
      "58500/58500 [==============================] - 2s 35us/step - loss: 0.3609 - acc: 0.8718 - val_loss: 0.2218 - val_acc: 0.9320\n",
      "Epoch 92/120\n",
      "58500/58500 [==============================] - 2s 31us/step - loss: 0.3598 - acc: 0.8718 - val_loss: 0.2352 - val_acc: 0.9300\n",
      "Epoch 93/120\n",
      "58500/58500 [==============================] - 2s 30us/step - loss: 0.3587 - acc: 0.8719 - val_loss: 0.1975 - val_acc: 0.9393\n",
      "Epoch 94/120\n",
      "58500/58500 [==============================] - 2s 29us/step - loss: 0.3578 - acc: 0.8731 - val_loss: 0.2115 - val_acc: 0.9360\n",
      "Epoch 95/120\n",
      "58500/58500 [==============================] - 2s 30us/step - loss: 0.3569 - acc: 0.8728 - val_loss: 0.2233 - val_acc: 0.9327\n",
      "Epoch 96/120\n",
      "58500/58500 [==============================] - 2s 29us/step - loss: 0.3556 - acc: 0.8736 - val_loss: 0.2364 - val_acc: 0.9313\n",
      "Epoch 97/120\n",
      "58500/58500 [==============================] - 2s 29us/step - loss: 0.3549 - acc: 0.8739 - val_loss: 0.2334 - val_acc: 0.9320\n",
      "Epoch 98/120\n",
      "58500/58500 [==============================] - 2s 29us/step - loss: 0.3542 - acc: 0.8735 - val_loss: 0.2361 - val_acc: 0.9300\n",
      "Epoch 99/120\n",
      "58500/58500 [==============================] - 2s 29us/step - loss: 0.3526 - acc: 0.8737 - val_loss: 0.2213 - val_acc: 0.9327\n",
      "Epoch 100/120\n",
      "58500/58500 [==============================] - 2s 29us/step - loss: 0.3519 - acc: 0.8750 - val_loss: 0.2165 - val_acc: 0.9380\n",
      "Epoch 101/120\n",
      "58500/58500 [==============================] - 2s 32us/step - loss: 0.3508 - acc: 0.8748 - val_loss: 0.2377 - val_acc: 0.9313\n",
      "Epoch 102/120\n",
      "58500/58500 [==============================] - 2s 34us/step - loss: 0.3498 - acc: 0.8764 - val_loss: 0.2271 - val_acc: 0.9320\n",
      "Epoch 103/120\n",
      "58500/58500 [==============================] - 2s 31us/step - loss: 0.3491 - acc: 0.8757 - val_loss: 0.2151 - val_acc: 0.9360\n",
      "Epoch 104/120\n",
      "58500/58500 [==============================] - 2s 30us/step - loss: 0.3485 - acc: 0.8761 - val_loss: 0.1952 - val_acc: 0.9420\n",
      "Epoch 105/120\n",
      "58500/58500 [==============================] - 2s 30us/step - loss: 0.3478 - acc: 0.8758 - val_loss: 0.2575 - val_acc: 0.9253\n",
      "Epoch 106/120\n",
      "58500/58500 [==============================] - 2s 29us/step - loss: 0.3461 - acc: 0.8771 - val_loss: 0.2244 - val_acc: 0.9347\n",
      "Epoch 107/120\n",
      "58500/58500 [==============================] - 2s 29us/step - loss: 0.3455 - acc: 0.8775 - val_loss: 0.2190 - val_acc: 0.9360\n",
      "Epoch 108/120\n",
      "58500/58500 [==============================] - 2s 29us/step - loss: 0.3444 - acc: 0.8780 - val_loss: 0.2343 - val_acc: 0.9327\n",
      "Epoch 109/120\n",
      "58500/58500 [==============================] - 2s 29us/step - loss: 0.3435 - acc: 0.8781 - val_loss: 0.2263 - val_acc: 0.9353\n",
      "Epoch 110/120\n",
      "58500/58500 [==============================] - 2s 29us/step - loss: 0.3425 - acc: 0.8782 - val_loss: 0.2311 - val_acc: 0.9340\n",
      "Epoch 111/120\n",
      "58500/58500 [==============================] - 2s 29us/step - loss: 0.3416 - acc: 0.8787 - val_loss: 0.2372 - val_acc: 0.9313\n",
      "Epoch 112/120\n",
      "58500/58500 [==============================] - 2s 32us/step - loss: 0.3407 - acc: 0.8789 - val_loss: 0.2319 - val_acc: 0.9347\n",
      "Epoch 113/120\n",
      "58500/58500 [==============================] - 2s 30us/step - loss: 0.3397 - acc: 0.8795 - val_loss: 0.2185 - val_acc: 0.9387\n",
      "Epoch 114/120\n",
      "58500/58500 [==============================] - 2s 35us/step - loss: 0.3387 - acc: 0.8796 - val_loss: 0.2156 - val_acc: 0.9387\n",
      "Epoch 115/120\n",
      "58500/58500 [==============================] - 2s 29us/step - loss: 0.3380 - acc: 0.8799 - val_loss: 0.2586 - val_acc: 0.9260\n",
      "Epoch 116/120\n",
      "58500/58500 [==============================] - 2s 29us/step - loss: 0.3374 - acc: 0.8801 - val_loss: 0.2591 - val_acc: 0.9273\n",
      "Epoch 117/120\n",
      "58500/58500 [==============================] - 2s 29us/step - loss: 0.3363 - acc: 0.8808 - val_loss: 0.2367 - val_acc: 0.9327\n"
     ]
    },
    {
     "name": "stdout",
     "output_type": "stream",
     "text": [
      "Epoch 118/120\n",
      "58500/58500 [==============================] - 2s 29us/step - loss: 0.3353 - acc: 0.8813 - val_loss: 0.2363 - val_acc: 0.9327\n",
      "Epoch 119/120\n",
      "58500/58500 [==============================] - 2s 29us/step - loss: 0.3344 - acc: 0.8813 - val_loss: 0.2436 - val_acc: 0.9320\n",
      "Epoch 120/120\n",
      "58500/58500 [==============================] - 2s 29us/step - loss: 0.3337 - acc: 0.8818 - val_loss: 0.2316 - val_acc: 0.9347\n"
     ]
    }
   ],
   "source": [
    "history = model.fit(train,\n",
    "                    label_train,\n",
    "                    epochs=120,\n",
    "                    batch_size=256,\n",
    "                    validation_data=(test, label_test))"
   ]
  },
  {
   "cell_type": "markdown",
   "metadata": {},
   "source": [
    "Recall that the dictionary `history` has two entries: the loss and the accuracy achieved using the training set."
   ]
  },
  {
   "cell_type": "code",
   "execution_count": 32,
   "metadata": {},
   "outputs": [
    {
     "data": {
      "text/plain": [
       "dict_keys(['val_loss', 'val_acc', 'loss', 'acc'])"
      ]
     },
     "execution_count": 32,
     "metadata": {},
     "output_type": "execute_result"
    }
   ],
   "source": [
    "history_dict = history.history\n",
    "history_dict.keys()"
   ]
  },
  {
   "cell_type": "markdown",
   "metadata": {},
   "source": [
    "## Plot the results\n",
    "\n",
    "As you might expect, we'll use our ```import matplotlib.pyplot as plt``` for graphing. Use the data stored in the history_dict above to plot the loss vs epochs and the accurcay vs epochs."
   ]
  },
  {
   "cell_type": "code",
   "execution_count": 36,
   "metadata": {},
   "outputs": [
    {
     "data": {
      "image/png": "[encoded data removed]",
      "text/plain": [
       "<Figure size 432x288 with 1 Axes>"
      ]
     },
     "metadata": {
      "needs_background": "light"
     },
     "output_type": "display_data"
    }
   ],
   "source": [
    "history_dict = history.history\n",
    "loss_values = history_dict['loss']\n",
    "\n",
    "epochs = range(1, len(loss_values) + 1)\n",
    "plt.plot(epochs, loss_values, 'g', label='Training loss')\n",
    "\n",
    "plt.title('Training loss')\n",
    "plt.xlabel('Epochs')\n",
    "plt.ylabel('Loss')\n",
    "plt.legend()\n",
    "plt.show()\n",
    "#Your code here; plot the loss vs the number of epoch"
   ]
  },
  {
   "cell_type": "code",
   "execution_count": 39,
   "metadata": {},
   "outputs": [
    {
     "data": {
      "image/png": "[encoded data removed]",
      "text/plain": [
       "<Figure size 432x288 with 1 Axes>"
      ]
     },
     "metadata": {
      "needs_background": "light"
     },
     "output_type": "display_data"
    }
   ],
   "source": [
    "history_dict = history.history\n",
    "accuracy_values = history_dict['acc']\n",
    "\n",
    "epochs = range(1, len(accuracy_values) + 1)\n",
    "plt.plot(epochs, accuracy_values, 'y', label='Training Accuracy')\n",
    "\n",
    "plt.title('Training Accuracy')\n",
    "plt.xlabel('Epochs')\n",
    "plt.ylabel('Accuracy')\n",
    "plt.legend()\n",
    "plt.show()#Your code here; plot the training accuracy vs the number of epochs"
   ]
  },
  {
   "cell_type": "markdown",
   "metadata": {},
   "source": [
    "It seems like we could just keep on going and accuracy would go up!"
   ]
  },
  {
   "cell_type": "markdown",
   "metadata": {},
   "source": [
    "## Make predictions\n",
    "\n",
    "Finally, it's time to output. Use the method discussed in the previous lesson to output (probability) predictions for the test set."
   ]
  },
  {
   "cell_type": "code",
   "execution_count": 41,
   "metadata": {},
   "outputs": [],
   "source": [
    "y_hat_test = model.predict(test)#Your code here; Output (probability) predictions for the test set."
   ]
  },
  {
   "cell_type": "markdown",
   "metadata": {},
   "source": [
    "## Evaluate Performance\n",
    "\n",
    "Finally, print the loss and accuracy for both the train and test sets of the final trained model."
   ]
  },
  {
   "cell_type": "code",
   "execution_count": 42,
   "metadata": {},
   "outputs": [
    {
     "name": "stdout",
     "output_type": "stream",
     "text": [
      "58500/58500 [==============================] - 3s 46us/step\n"
     ]
    },
    {
     "data": {
      "text/plain": [
       "[0.3267649286062035, 0.885042735042735]"
      ]
     },
     "execution_count": 42,
     "metadata": {},
     "output_type": "execute_result"
    }
   ],
   "source": [
    "model.evaluate(train, label_train)#Your code here; print the loss and accuracy for the training set."
   ]
  },
  {
   "cell_type": "code",
   "execution_count": 43,
   "metadata": {},
   "outputs": [
    {
     "name": "stdout",
     "output_type": "stream",
     "text": [
      "1500/1500 [==============================] - 0s 60us/step\n"
     ]
    },
    {
     "data": {
      "text/plain": [
       "[0.23163710719347, 0.9346666668256124]"
      ]
     },
     "execution_count": 43,
     "metadata": {},
     "output_type": "execute_result"
    }
   ],
   "source": [
    "model.evaluate(test, label_test)#Your code here; print the loss and accuracy for the test set."
   ]
  },
  {
   "cell_type": "markdown",
   "metadata": {},
   "source": [
    "We can see that the training set results are really good (a 89.4% classification accuracy!), but the test set results lag behind. In the next lab. We'll talk a little more about this in the next lecture, and will discuss how we can get better test set results as well!"
   ]
  },
  {
   "cell_type": "markdown",
   "metadata": {},
   "source": [
    "## Additional Resources"
   ]
  },
  {
   "cell_type": "markdown",
   "metadata": {},
   "source": [
    "https://github.com/susanli2016/Machine-Learning-with-Python/blob/master/Consumer_complaints.ipynb"
   ]
  },
  {
   "cell_type": "markdown",
   "metadata": {},
   "source": [
    "https://catalog.data.gov/dataset/consumer-complaint-database"
   ]
  },
  {
   "cell_type": "markdown",
   "metadata": {},
   "source": [
    "## Summary \n",
    "\n",
    "Congratulations! In this lab, you built a neural network with much less production time thanks to the tools provided by Keras! In upcoming lessons and labs we'll continue to investigate further ideas regarding how to tune and refine these models for increased accuracy and performance."
   ]
  }
 ],
 "metadata": {
  "kernelspec": {
   "display_name": "Python 3",
   "language": "python",
   "name": "python3"
  },
  "language_info": {
   "codemirror_mode": {
    "name": "ipython",
    "version": 3
   },
   "file_extension": ".py",
   "mimetype": "text/x-python",
   "name": "python",
   "nbconvert_exporter": "python",
   "pygments_lexer": "ipython3",
   "version": "3.6.6"
  }
 },
 "nbformat": 4,
 "nbformat_minor": 2
}
